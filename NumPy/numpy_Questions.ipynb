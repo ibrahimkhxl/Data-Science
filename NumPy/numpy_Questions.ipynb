{
 "cells": [
  {
   "cell_type": "markdown",
   "id": "181af699",
   "metadata": {},
   "source": [
    "####  Q. Multiply two Matrix"
   ]
  },
  {
   "cell_type": "code",
   "execution_count": 1,
   "id": "739457dd",
   "metadata": {},
   "outputs": [],
   "source": [
    "import numpy as np"
   ]
  },
  {
   "cell_type": "code",
   "execution_count": 4,
   "id": "1a48ef2d",
   "metadata": {},
   "outputs": [
    {
     "data": {
      "text/plain": [
       "(2, 4)"
      ]
     },
     "execution_count": 4,
     "metadata": {},
     "output_type": "execute_result"
    }
   ],
   "source": [
    "a = np.array(([1,2,3,4],[5,6,7,8]))\n",
    "np.shape(a)"
   ]
  },
  {
   "cell_type": "code",
   "execution_count": 6,
   "id": "5de31609",
   "metadata": {},
   "outputs": [
    {
     "data": {
      "text/plain": [
       "(4, 2)"
      ]
     },
     "execution_count": 6,
     "metadata": {},
     "output_type": "execute_result"
    }
   ],
   "source": [
    "b = np.array(([9,8],[7,6],[5,4],[3,2]))\n",
    "np.shape(b)"
   ]
  },
  {
   "cell_type": "code",
   "execution_count": 8,
   "id": "d8c5963c",
   "metadata": {},
   "outputs": [
    {
     "data": {
      "text/plain": [
       "array([[ 50,  40],\n",
       "       [146, 120]])"
      ]
     },
     "execution_count": 8,
     "metadata": {},
     "output_type": "execute_result"
    }
   ],
   "source": [
    "np.matmul(a,b)"
   ]
  },
  {
   "cell_type": "markdown",
   "id": "cbbc5d8c",
   "metadata": {},
   "source": [
    "If the numbe rof rows and columns are same in both matrix then we can directly do m * n"
   ]
  },
  {
   "cell_type": "code",
   "execution_count": 11,
   "id": "554dbda8",
   "metadata": {},
   "outputs": [],
   "source": [
    "m = np.array(([1,2,3,4],[5,6,7,8]))\n",
    "n = np.array(([9,8,7,6],[5,4,3,2]))"
   ]
  },
  {
   "cell_type": "code",
   "execution_count": 12,
   "id": "ba3e608c",
   "metadata": {},
   "outputs": [
    {
     "name": "stdout",
     "output_type": "stream",
     "text": [
      "(2, 4)\n",
      "(2, 4)\n"
     ]
    }
   ],
   "source": [
    "print(np.shape(m))\n",
    "print(np.shape(n))"
   ]
  },
  {
   "cell_type": "code",
   "execution_count": 13,
   "id": "db3b4f5e",
   "metadata": {},
   "outputs": [
    {
     "data": {
      "text/plain": [
       "array([[ 9, 16, 21, 24],\n",
       "       [25, 24, 21, 16]])"
      ]
     },
     "execution_count": 13,
     "metadata": {},
     "output_type": "execute_result"
    }
   ],
   "source": [
    "m * n"
   ]
  },
  {
   "cell_type": "markdown",
   "id": "4e7f8a02",
   "metadata": {},
   "source": [
    "#### Q. Create a program to change a string element in a specified numpy array to uppercase to lower case, capitalise the first letter, title - case or swapcase"
   ]
  },
  {
   "cell_type": "code",
   "execution_count": 48,
   "id": "aecfc402",
   "metadata": {},
   "outputs": [
    {
     "name": "stdout",
     "output_type": "stream",
     "text": [
      "['AHAD' 'FAHAD' 'TINA' 'ZAKI']\n",
      "['ahad' 'fahad' 'tina' 'zaki']\n",
      "['Ahad' 'Fahad' 'Tina' 'Zaki']\n"
     ]
    }
   ],
   "source": [
    "larr = np.array([\"ahad\",'fahad','tina','zaki'])\n",
    "carr = np.array(['AHAD','FAHAD','TINA','ZAKI'])\n",
    "harr = np.array([\"ahad\",'fahad','tina','zaki'])\n",
    "for i in range(len(larr)):\n",
    "    larr[i]=larr[i].upper()\n",
    "    harr[i]=harr[i].capitalize()\n",
    "    carr[i]=carr[i].lower()\n",
    "    \n",
    "print(larr)\n",
    "print(carr)\n",
    "print(harr)"
   ]
  },
  {
   "cell_type": "code",
   "execution_count": 49,
   "id": "17573912",
   "metadata": {},
   "outputs": [
    {
     "data": {
      "text/plain": [
       "array(['hello', 'world'], dtype='<U5')"
      ]
     },
     "execution_count": 49,
     "metadata": {},
     "output_type": "execute_result"
    }
   ],
   "source": [
    "arr = np.array(['hello','world'])\n",
    "arr"
   ]
  },
  {
   "cell_type": "code",
   "execution_count": 51,
   "id": "c8115b42",
   "metadata": {},
   "outputs": [
    {
     "data": {
      "text/plain": [
       "array(['HELLO', 'WORLD'], dtype='<U5')"
      ]
     },
     "execution_count": 51,
     "metadata": {},
     "output_type": "execute_result"
    }
   ],
   "source": [
    "upper = np.char.upper(arr)\n",
    "upper"
   ]
  },
  {
   "cell_type": "code",
   "execution_count": 53,
   "id": "e71806b6",
   "metadata": {},
   "outputs": [
    {
     "data": {
      "text/plain": [
       "array(['hello', 'world'], dtype='<U5')"
      ]
     },
     "execution_count": 53,
     "metadata": {},
     "output_type": "execute_result"
    }
   ],
   "source": [
    "lower = np.char.lower(upper)\n",
    "lower"
   ]
  },
  {
   "cell_type": "code",
   "execution_count": 55,
   "id": "65a3e29c",
   "metadata": {},
   "outputs": [
    {
     "data": {
      "text/plain": [
       "array(['Hello', 'World'], dtype='<U5')"
      ]
     },
     "execution_count": 55,
     "metadata": {},
     "output_type": "execute_result"
    }
   ],
   "source": [
    "cap = np.char.capitalize(arr)\n",
    "cap"
   ]
  },
  {
   "cell_type": "code",
   "execution_count": 58,
   "id": "4dd4fd93",
   "metadata": {},
   "outputs": [
    {
     "data": {
      "text/plain": [
       "array(['Hello', 'World'], dtype='<U5')"
      ]
     },
     "execution_count": 58,
     "metadata": {},
     "output_type": "execute_result"
    }
   ],
   "source": [
    "title = np.char.title(arr)\n",
    "title"
   ]
  },
  {
   "cell_type": "code",
   "execution_count": 57,
   "id": "4ee93673",
   "metadata": {},
   "outputs": [
    {
     "data": {
      "text/plain": [
       "array(['hELLO', 'wORLD'], dtype='<U5')"
      ]
     },
     "execution_count": 57,
     "metadata": {},
     "output_type": "execute_result"
    }
   ],
   "source": [
    "swap = np.char.swapcase(cap)\n",
    "swap"
   ]
  },
  {
   "cell_type": "markdown",
   "id": "7a73ce1e",
   "metadata": {},
   "source": [
    "#### Q. Get a row numbers of numpy array if any element is having larger value than a specific value"
   ]
  },
  {
   "cell_type": "code",
   "execution_count": 62,
   "id": "2dd8f5de",
   "metadata": {},
   "outputs": [
    {
     "data": {
      "text/plain": [
       "array([[ 1,  2,  3,  4],\n",
       "       [ 5,  6,  7,  8],\n",
       "       [ 9, 10, 11, 12],\n",
       "       [13, 14, 15, 16]])"
      ]
     },
     "execution_count": 62,
     "metadata": {},
     "output_type": "execute_result"
    }
   ],
   "source": [
    "arr = np.array(([1,2,3,4],[5,6,7,8],[9,10,11,12],[13,14,15,16]))\n",
    "np.shape(arr)\n",
    "arr"
   ]
  },
  {
   "cell_type": "code",
   "execution_count": 83,
   "id": "a72ddd9a",
   "metadata": {},
   "outputs": [
    {
     "data": {
      "text/plain": [
       "array([False,  True,  True,  True])"
      ]
     },
     "execution_count": 83,
     "metadata": {},
     "output_type": "execute_result"
    }
   ],
   "source": [
    "key = 13\n",
    "\n",
    "np.any(arr > key,axis = 0)"
   ]
  },
  {
   "cell_type": "code",
   "execution_count": 77,
   "id": "bc5b31f8",
   "metadata": {},
   "outputs": [
    {
     "data": {
      "text/plain": [
       "(array([3], dtype=int64),)"
      ]
     },
     "execution_count": 77,
     "metadata": {},
     "output_type": "execute_result"
    }
   ],
   "source": [
    "np.where(np.any(arr > key,axis = 1))"
   ]
  },
  {
   "cell_type": "markdown",
   "id": "02c33865",
   "metadata": {},
   "source": [
    "3rd row is the answer"
   ]
  },
  {
   "cell_type": "markdown",
   "id": "81a20601",
   "metadata": {},
   "source": [
    "#### Q. How to remove rows which contain null value"
   ]
  },
  {
   "cell_type": "code",
   "execution_count": 84,
   "id": "52ef0a1a",
   "metadata": {},
   "outputs": [
    {
     "data": {
      "text/plain": [
       "array([[ 1.,  2.,  3.,  4.,  5.],\n",
       "       [ 6.,  7.,  8.,  9., 10.],\n",
       "       [11., 12., nan, 14., 15.],\n",
       "       [16., 17., 18., 19., 20.]])"
      ]
     },
     "execution_count": 84,
     "metadata": {},
     "output_type": "execute_result"
    }
   ],
   "source": [
    "array = np.array(([1,2,3,4,5],[6,7,8,9,10],[11,12,np.nan,14,15],[16,17,18,19,20]))\n",
    "array"
   ]
  },
  {
   "cell_type": "code",
   "execution_count": 85,
   "id": "46108786",
   "metadata": {},
   "outputs": [
    {
     "data": {
      "text/plain": [
       "array([[False, False, False, False, False],\n",
       "       [False, False, False, False, False],\n",
       "       [False, False,  True, False, False],\n",
       "       [False, False, False, False, False]])"
      ]
     },
     "execution_count": 85,
     "metadata": {},
     "output_type": "execute_result"
    }
   ],
   "source": [
    " np.isnan(array)"
   ]
  },
  {
   "cell_type": "code",
   "execution_count": 96,
   "id": "dfe50d15",
   "metadata": {},
   "outputs": [
    {
     "data": {
      "text/plain": [
       "array([False, False,  True, False])"
      ]
     },
     "execution_count": 96,
     "metadata": {},
     "output_type": "execute_result"
    }
   ],
   "source": [
    "x = np.any(np.isnan(array),axis = 1)"
   ]
  },
  {
   "cell_type": "code",
   "execution_count": 90,
   "id": "dc6f966f",
   "metadata": {},
   "outputs": [
    {
     "data": {
      "text/plain": [
       "(array([2], dtype=int64),)"
      ]
     },
     "execution_count": 90,
     "metadata": {},
     "output_type": "execute_result"
    }
   ],
   "source": [
    "np.where(np.any(np.isnan(array),axis = 1))"
   ]
  },
  {
   "cell_type": "code",
   "execution_count": 98,
   "id": "6161aa69",
   "metadata": {},
   "outputs": [
    {
     "data": {
      "text/plain": [
       "array([[ 1.,  2.,  3.,  4.,  5.],\n",
       "       [ 6.,  7.,  8.,  9., 10.],\n",
       "       [16., 17., 18., 19., 20.]])"
      ]
     },
     "execution_count": 98,
     "metadata": {},
     "output_type": "execute_result"
    }
   ],
   "source": [
    "np.delete(array,2,axis = 0)"
   ]
  },
  {
   "cell_type": "markdown",
   "id": "0c369a24",
   "metadata": {},
   "source": [
    "#### Q. How to multiply string element within a numpy"
   ]
  },
  {
   "cell_type": "code",
   "execution_count": 101,
   "id": "1d888460",
   "metadata": {},
   "outputs": [
    {
     "data": {
      "text/plain": [
       "'FahadFahadFahad'"
      ]
     },
     "execution_count": 101,
     "metadata": {},
     "output_type": "execute_result"
    }
   ],
   "source": [
    "3 * \"Fahad\""
   ]
  },
  {
   "cell_type": "code",
   "execution_count": 105,
   "id": "d766d848",
   "metadata": {},
   "outputs": [
    {
     "data": {
      "text/plain": [
       "array(['Ahaa..Ahaa..Ahaa..'], dtype='<U18')"
      ]
     },
     "execution_count": 105,
     "metadata": {},
     "output_type": "execute_result"
    }
   ],
   "source": [
    "a = np.array([\"Ahaa..\"])\\\n",
    "\n",
    "x = np.char.multiply(a,3)\n",
    "x"
   ]
  },
  {
   "cell_type": "markdown",
   "id": "cbe85516",
   "metadata": {},
   "source": [
    "#### Q. How to Select minumum value along the rows"
   ]
  },
  {
   "cell_type": "markdown",
   "id": "dd081612",
   "metadata": {},
   "source": [
    "in axis = 0 mean we selecting rows and  axis = 0 means we selecting column"
   ]
  },
  {
   "cell_type": "code",
   "execution_count": 125,
   "id": "b7fb4353",
   "metadata": {},
   "outputs": [
    {
     "name": "stdout",
     "output_type": "stream",
     "text": [
      "[[39 14  7 22 23]\n",
      " [29 46  8 10 35]\n",
      " [42  7 45 15 28]\n",
      " [34 13 37 14  6]\n",
      " [44 21 33 18 33]]\n",
      "6\n"
     ]
    },
    {
     "data": {
      "text/plain": [
       "(array([4], dtype=int64),)"
      ]
     },
     "execution_count": 125,
     "metadata": {},
     "output_type": "execute_result"
    }
   ],
   "source": [
    "arr = np.random.randint(5,50,size=(5,5))\n",
    "print(arr)\n",
    "\n",
    "x = arr.min()\n",
    "print(x)\n",
    "\n",
    "np.where(np.any(arr == x, axis = 0))"
   ]
  },
  {
   "cell_type": "code",
   "execution_count": 124,
   "id": "4e21dadb",
   "metadata": {},
   "outputs": [
    {
     "name": "stdout",
     "output_type": "stream",
     "text": [
      "5\n"
     ]
    },
    {
     "data": {
      "text/plain": [
       "array([False, False, False,  True,  True])"
      ]
     },
     "execution_count": 124,
     "metadata": {},
     "output_type": "execute_result"
    }
   ],
   "source": []
  },
  {
   "cell_type": "markdown",
   "id": "d320a16f",
   "metadata": {},
   "source": [
    "#### Q. Fill a diognal value with numpy array"
   ]
  },
  {
   "cell_type": "code",
   "execution_count": 168,
   "id": "569bb53c",
   "metadata": {},
   "outputs": [
    {
     "data": {
      "text/plain": [
       "array([[0., 0., 0.],\n",
       "       [0., 0., 0.],\n",
       "       [0., 0., 0.]])"
      ]
     },
     "execution_count": 168,
     "metadata": {},
     "output_type": "execute_result"
    }
   ],
   "source": [
    "varr = np.zeros((3,3))\n",
    "varr"
   ]
  },
  {
   "cell_type": "code",
   "execution_count": 169,
   "id": "7d9fc7a1",
   "metadata": {},
   "outputs": [
    {
     "data": {
      "text/plain": [
       "array([[1., 0., 0.],\n",
       "       [0., 1., 0.],\n",
       "       [0., 0., 1.]])"
      ]
     },
     "execution_count": 169,
     "metadata": {},
     "output_type": "execute_result"
    }
   ],
   "source": [
    "for i in range(len(varr)):\n",
    "    for j in range (len(varr[i])):\n",
    "        if i == j: \n",
    "            varr[i,j] = 1\n",
    "            break\n",
    "        else:\n",
    "            continue\n",
    "        \n",
    "varr"
   ]
  },
  {
   "cell_type": "code",
   "execution_count": 155,
   "id": "a788ec2a",
   "metadata": {},
   "outputs": [
    {
     "data": {
      "text/plain": [
       "array([[1., 1., 1.],\n",
       "       [1., 1., 1.],\n",
       "       [1., 1., 1.]])"
      ]
     },
     "execution_count": 155,
     "metadata": {},
     "output_type": "execute_result"
    }
   ],
   "source": [
    "brr = np.ones((3,3))\n",
    "brr"
   ]
  },
  {
   "cell_type": "code",
   "execution_count": 157,
   "id": "23a69876",
   "metadata": {},
   "outputs": [
    {
     "data": {
      "text/plain": [
       "array([[0., 1., 1.],\n",
       "       [1., 0., 1.],\n",
       "       [1., 1., 0.]])"
      ]
     },
     "execution_count": 157,
     "metadata": {},
     "output_type": "execute_result"
    }
   ],
   "source": [
    "np.fill_diagonal(brr,0)\n",
    "brr"
   ]
  },
  {
   "cell_type": "markdown",
   "id": "2f714f68",
   "metadata": {},
   "source": [
    "#### Q. How to cheack if a number is present in numpy array and replace negative values with 999"
   ]
  },
  {
   "cell_type": "code",
   "execution_count": 186,
   "id": "63008153",
   "metadata": {},
   "outputs": [
    {
     "name": "stdout",
     "output_type": "stream",
     "text": [
      "before\n",
      " [[ 2 16 -4]\n",
      " [-1  2 17]\n",
      " [-6 14  3]]\n",
      "after\n",
      " [[  2  16 999]\n",
      " [999   2  17]\n",
      " [999  14   3]]\n"
     ]
    }
   ],
   "source": [
    "arr = np.random.randint(-10,20,size = (3,3))\n",
    "print(\"before\\n\",arr)\n",
    "key = 7\n",
    "\n",
    "for i in range(len(arr)):\n",
    "    for j in range(len(arr)):\n",
    "        if arr[i,j] < 0:\n",
    "            arr[i,j] = 999\n",
    "            \n",
    "        if arr[i,j] == key:\n",
    "            print(arr[i,j],\" Element present\",i+1,\"row\",j+1,\"column\")\n",
    "            \n",
    "print(\"after\\n\",arr) "
   ]
  },
  {
   "cell_type": "code",
   "execution_count": 200,
   "id": "324ba0d3",
   "metadata": {},
   "outputs": [
    {
     "name": "stdout",
     "output_type": "stream",
     "text": [
      "[[-1  7  6]\n",
      " [ 3 12 16]\n",
      " [ 1  8 16]]\n",
      "[[False  True False]\n",
      " [False False False]\n",
      " [False False False]]\n"
     ]
    }
   ],
   "source": [
    "arry = np.random.randint(-10,20,size = (3,3))\n",
    "print(arry)\n",
    "\n",
    "print(np.isin(arry,7))\n"
   ]
  },
  {
   "cell_type": "code",
   "execution_count": 201,
   "id": "761cc2c6",
   "metadata": {},
   "outputs": [
    {
     "data": {
      "text/plain": [
       "array([[999,   7,   6],\n",
       "       [  3,  12,  16],\n",
       "       [  1,   8,  16]])"
      ]
     },
     "execution_count": 201,
     "metadata": {},
     "output_type": "execute_result"
    }
   ],
   "source": [
    "arry[arry < 0] = 999\n",
    "arry"
   ]
  },
  {
   "cell_type": "markdown",
   "id": "733bb93a",
   "metadata": {},
   "source": [
    "#### Q.  Create a 4x4 random array and reshape it so the last row of previous array becomes the first row of new array and vice verca"
   ]
  },
  {
   "cell_type": "code",
   "execution_count": 202,
   "id": "2d2ffcdd",
   "metadata": {},
   "outputs": [
    {
     "data": {
      "text/plain": [
       "array([[3, 8, 0, 9],\n",
       "       [7, 6, 6, 6],\n",
       "       [5, 8, 4, 4],\n",
       "       [8, 8, 5, 1]])"
      ]
     },
     "execution_count": 202,
     "metadata": {},
     "output_type": "execute_result"
    }
   ],
   "source": [
    "arr = np.random.randint(10,size = (4,4))\n",
    "arr"
   ]
  },
  {
   "cell_type": "code",
   "execution_count": 216,
   "id": "38fde6fc",
   "metadata": {},
   "outputs": [
    {
     "data": {
      "text/plain": [
       "array([[8, 8, 5, 1],\n",
       "       [5, 8, 4, 4],\n",
       "       [7, 6, 6, 6],\n",
       "       [3, 8, 0, 9]])"
      ]
     },
     "execution_count": 216,
     "metadata": {},
     "output_type": "execute_result"
    }
   ],
   "source": [
    "new_arr = arr[::-1,:]\n",
    "new_arr"
   ]
  },
  {
   "cell_type": "markdown",
   "id": "5a2282dd",
   "metadata": {},
   "source": [
    "#### Q. Compare two numpy arrays"
   ]
  },
  {
   "cell_type": "code",
   "execution_count": 218,
   "id": "ca27998b",
   "metadata": {},
   "outputs": [
    {
     "data": {
      "text/plain": [
       "array([[False,  True, False, False],\n",
       "       [ True, False, False,  True]])"
      ]
     },
     "execution_count": 218,
     "metadata": {},
     "output_type": "execute_result"
    }
   ],
   "source": [
    "a = np.array(([1,2,3,4],[5,6,7,8]))\n",
    "b = np.array(([2,1,4,5],[3,7,8,6]))\n",
    "\n",
    "a > b"
   ]
  },
  {
   "cell_type": "code",
   "execution_count": 220,
   "id": "54059bdc",
   "metadata": {},
   "outputs": [
    {
     "data": {
      "text/plain": [
       "array([[False,  True, False, False],\n",
       "       [ True, False, False,  True]])"
      ]
     },
     "execution_count": 220,
     "metadata": {},
     "output_type": "execute_result"
    }
   ],
   "source": [
    "np.greater(a,b)"
   ]
  },
  {
   "cell_type": "code",
   "execution_count": 221,
   "id": "c70e7c62",
   "metadata": {},
   "outputs": [
    {
     "data": {
      "text/plain": [
       "array([[False,  True, False, False],\n",
       "       [ True, False, False,  True]])"
      ]
     },
     "execution_count": 221,
     "metadata": {},
     "output_type": "execute_result"
    }
   ],
   "source": [
    "a>=b"
   ]
  },
  {
   "cell_type": "code",
   "execution_count": 222,
   "id": "d87c1111",
   "metadata": {},
   "outputs": [
    {
     "data": {
      "text/plain": [
       "array([[False,  True, False, False],\n",
       "       [ True, False, False,  True]])"
      ]
     },
     "execution_count": 222,
     "metadata": {},
     "output_type": "execute_result"
    }
   ],
   "source": [
    "np.greater_equal(a,b)"
   ]
  },
  {
   "cell_type": "code",
   "execution_count": 223,
   "id": "fbc8ccb5",
   "metadata": {},
   "outputs": [
    {
     "data": {
      "text/plain": [
       "array([[ True, False,  True,  True],\n",
       "       [False,  True,  True, False]])"
      ]
     },
     "execution_count": 223,
     "metadata": {},
     "output_type": "execute_result"
    }
   ],
   "source": [
    "a < b"
   ]
  },
  {
   "cell_type": "code",
   "execution_count": 224,
   "id": "2ee97d3d",
   "metadata": {},
   "outputs": [
    {
     "data": {
      "text/plain": [
       "array([[ True, False,  True,  True],\n",
       "       [False,  True,  True, False]])"
      ]
     },
     "execution_count": 224,
     "metadata": {},
     "output_type": "execute_result"
    }
   ],
   "source": [
    "np.less(a,b)"
   ]
  },
  {
   "cell_type": "markdown",
   "id": "ce47c839",
   "metadata": {},
   "source": [
    "#### Q. Stacking two arrays \n"
   ]
  },
  {
   "cell_type": "code",
   "execution_count": 232,
   "id": "05bc9549",
   "metadata": {},
   "outputs": [
    {
     "name": "stdout",
     "output_type": "stream",
     "text": [
      "[[0 1 2 3 4]\n",
      " [5 6 7 8 9]]\n",
      "[[11 12 13 14 15]\n",
      " [16 17 18 19 20]]\n"
     ]
    }
   ],
   "source": [
    "h1 = np.arange(10).reshape(2,5)\n",
    "h2 = np.arange(11,21).reshape(2,5)\n",
    "\n",
    "print(h1)\n",
    "print(h2)"
   ]
  },
  {
   "cell_type": "code",
   "execution_count": 233,
   "id": "a778b2b5",
   "metadata": {},
   "outputs": [
    {
     "data": {
      "text/plain": [
       "array([[ 0,  1,  2,  3,  4, 11, 12, 13, 14, 15],\n",
       "       [ 5,  6,  7,  8,  9, 16, 17, 18, 19, 20]])"
      ]
     },
     "execution_count": 233,
     "metadata": {},
     "output_type": "execute_result"
    }
   ],
   "source": [
    "np.hstack([h1,h2])"
   ]
  },
  {
   "cell_type": "code",
   "execution_count": 236,
   "id": "18b6c463",
   "metadata": {},
   "outputs": [
    {
     "name": "stdout",
     "output_type": "stream",
     "text": [
      "[[0 7 5]\n",
      " [1 4 7]\n",
      " [3 4 3]]\n",
      "[[26 15 29]\n",
      " [22 20 22]\n",
      " [11 12 22]]\n"
     ]
    }
   ],
   "source": [
    "v1 = np.random.randint(10,size = (3,3))\n",
    "v2 = np.random.randint(10,30,size = (3,3))\n",
    "\n",
    "print(v1)\n",
    "print(v2)"
   ]
  },
  {
   "cell_type": "code",
   "execution_count": 241,
   "id": "507be699",
   "metadata": {},
   "outputs": [
    {
     "data": {
      "text/plain": [
       "array([[26, 15, 29],\n",
       "       [22, 20, 22],\n",
       "       [11, 12, 22],\n",
       "       [ 0,  7,  5],\n",
       "       [ 1,  4,  7],\n",
       "       [ 3,  4,  3]])"
      ]
     },
     "execution_count": 241,
     "metadata": {},
     "output_type": "execute_result"
    }
   ],
   "source": [
    "np.vstack([v2,v1])"
   ]
  },
  {
   "cell_type": "markdown",
   "id": "6c01271d",
   "metadata": {},
   "source": [
    "#### Q. How to Put elements at certain positions"
   ]
  },
  {
   "cell_type": "code",
   "execution_count": 250,
   "id": "5ac9509a",
   "metadata": {},
   "outputs": [
    {
     "data": {
      "text/plain": [
       "array([[0., 0., 0.],\n",
       "       [0., 0., 0.],\n",
       "       [0., 0., 0.]])"
      ]
     },
     "execution_count": 250,
     "metadata": {},
     "output_type": "execute_result"
    }
   ],
   "source": [
    "arr = np.zeros((3,3))\n",
    "arr"
   ]
  },
  {
   "cell_type": "code",
   "execution_count": 251,
   "id": "3c6b3971",
   "metadata": {},
   "outputs": [
    {
     "data": {
      "text/plain": [
       "array([[0., 0., 0.],\n",
       "       [2., 4., 6.],\n",
       "       [0., 0., 0.]])"
      ]
     },
     "execution_count": 251,
     "metadata": {},
     "output_type": "execute_result"
    }
   ],
   "source": [
    "arr2 = np.array([2,4,6])\n",
    "\n",
    "arr.put([3,4,5],arr2)\n",
    "arr"
   ]
  },
  {
   "cell_type": "code",
   "execution_count": 253,
   "id": "a1e16c77",
   "metadata": {},
   "outputs": [
    {
     "data": {
      "text/plain": [
       "array([[0., 0., 0.],\n",
       "       [2., 4., 6.],\n",
       "       [2., 4., 6.]])"
      ]
     },
     "execution_count": 253,
     "metadata": {},
     "output_type": "execute_result"
    }
   ],
   "source": [
    "arr[2:,0:] = arr2\n",
    "arr"
   ]
  },
  {
   "cell_type": "markdown",
   "id": "9b46253d",
   "metadata": {},
   "source": [
    "#### Q. Delete a second column from a given array and insert the following new column in the place "
   ]
  },
  {
   "cell_type": "code",
   "execution_count": 275,
   "id": "f1732f34",
   "metadata": {},
   "outputs": [
    {
     "data": {
      "text/plain": [
       "array([[0, 1, 2],\n",
       "       [3, 4, 5],\n",
       "       [6, 7, 8]])"
      ]
     },
     "execution_count": 275,
     "metadata": {},
     "output_type": "execute_result"
    }
   ],
   "source": [
    "a = np.arange(9).reshape(3,3)\n",
    "a"
   ]
  },
  {
   "cell_type": "code",
   "execution_count": 276,
   "id": "c2ffbe9c",
   "metadata": {},
   "outputs": [
    {
     "data": {
      "text/plain": [
       "array([[0, 1, 2],\n",
       "       [6, 7, 8]])"
      ]
     },
     "execution_count": 276,
     "metadata": {},
     "output_type": "execute_result"
    }
   ],
   "source": [
    "np.delete(a,1,axis=0)"
   ]
  },
  {
   "cell_type": "code",
   "execution_count": 277,
   "id": "61c48310",
   "metadata": {},
   "outputs": [
    {
     "data": {
      "text/plain": [
       "array([[ 0,  1,  2],\n",
       "       [77, 78, 79],\n",
       "       [ 6,  7,  8]])"
      ]
     },
     "execution_count": 277,
     "metadata": {},
     "output_type": "execute_result"
    }
   ],
   "source": [
    "b = np.array([77,78,79])\n",
    "a[1:2,:] = b\n",
    "a"
   ]
  },
  {
   "cell_type": "code",
   "execution_count": 280,
   "id": "571c391c",
   "metadata": {},
   "outputs": [
    {
     "data": {
      "text/plain": [
       "array([[ 0,  1,  2],\n",
       "       [77, 78, 79],\n",
       "       [97, 98, 99],\n",
       "       [ 6,  7,  8]])"
      ]
     },
     "execution_count": 280,
     "metadata": {},
     "output_type": "execute_result"
    }
   ],
   "source": [
    "c = np.array([97,98,99])\n",
    "np.insert(a,2,c,axis = 0)"
   ]
  },
  {
   "cell_type": "markdown",
   "id": "9d3c9f65",
   "metadata": {},
   "source": [
    "#### Q. Wrtie a numpy profram to create 10 zeroes 10 ones and 10 fives\n"
   ]
  },
  {
   "cell_type": "code",
   "execution_count": 282,
   "id": "35f86499",
   "metadata": {},
   "outputs": [
    {
     "data": {
      "text/plain": [
       "array([0., 0., 0., 0., 0., 0., 0., 0., 0., 0.])"
      ]
     },
     "execution_count": 282,
     "metadata": {},
     "output_type": "execute_result"
    }
   ],
   "source": [
    "a = np.zeros(10)\n",
    "a"
   ]
  },
  {
   "cell_type": "code",
   "execution_count": 284,
   "id": "779dcfbd",
   "metadata": {},
   "outputs": [
    {
     "data": {
      "text/plain": [
       "array([1., 1., 1., 1., 1., 1., 1., 1., 1., 1.])"
      ]
     },
     "execution_count": 284,
     "metadata": {},
     "output_type": "execute_result"
    }
   ],
   "source": [
    "b = np.ones(10)\n",
    "b"
   ]
  },
  {
   "cell_type": "code",
   "execution_count": 293,
   "id": "4a48e768",
   "metadata": {},
   "outputs": [
    {
     "data": {
      "text/plain": [
       "array([[5, 5, 5, 5, 5, 5, 5, 5, 5, 5]])"
      ]
     },
     "execution_count": 293,
     "metadata": {},
     "output_type": "execute_result"
    }
   ],
   "source": [
    "np.full((1,10),5)"
   ]
  }
 ],
 "metadata": {
  "kernelspec": {
   "display_name": "Python 3 (ipykernel)",
   "language": "python",
   "name": "python3"
  },
  "language_info": {
   "codemirror_mode": {
    "name": "ipython",
    "version": 3
   },
   "file_extension": ".py",
   "mimetype": "text/x-python",
   "name": "python",
   "nbconvert_exporter": "python",
   "pygments_lexer": "ipython3",
   "version": "3.11.4"
  }
 },
 "nbformat": 4,
 "nbformat_minor": 5
}
