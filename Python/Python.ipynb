{
 "cells": [
  {
   "cell_type": "markdown",
   "id": "d775f8b3",
   "metadata": {},
   "source": [
    "# Variables"
   ]
  },
  {
   "cell_type": "code",
   "execution_count": 5,
   "id": "edf1b201",
   "metadata": {
    "scrolled": true
   },
   "outputs": [
    {
     "name": "stdout",
     "output_type": "stream",
     "text": [
      "1822.8\n",
      "change in rent\n",
      "2702.7999999999997\n"
     ]
    }
   ],
   "source": [
    "rent = 1120\n",
    "gas = 202.6\n",
    "food = 500.2\n",
    "total = rent + gas + food\n",
    "print(total)\n",
    "\n",
    "print(\"change in rent\")\n",
    "rent = 2000\n",
    "total = rent + gas + food\n",
    "print(total)"
   ]
  },
  {
   "cell_type": "markdown",
   "id": "e4827545",
   "metadata": {},
   "source": [
    "# Numbers"
   ]
  },
  {
   "cell_type": "code",
   "execution_count": 6,
   "id": "f025026d",
   "metadata": {},
   "outputs": [
    {
     "data": {
      "text/plain": [
       "20"
      ]
     },
     "execution_count": 6,
     "metadata": {},
     "output_type": "execute_result"
    }
   ],
   "source": [
    "12+8"
   ]
  },
  {
   "cell_type": "code",
   "execution_count": 7,
   "id": "6fdf5047",
   "metadata": {},
   "outputs": [
    {
     "data": {
      "text/plain": [
       "1"
      ]
     },
     "execution_count": 7,
     "metadata": {},
     "output_type": "execute_result"
    }
   ],
   "source": [
    "11%2"
   ]
  },
  {
   "cell_type": "code",
   "execution_count": 10,
   "id": "7165be23",
   "metadata": {},
   "outputs": [
    {
     "data": {
      "text/plain": [
       "9"
      ]
     },
     "execution_count": 10,
     "metadata": {},
     "output_type": "execute_result"
    }
   ],
   "source": [
    "# to find the power opf number\n",
    "3**2"
   ]
  },
  {
   "cell_type": "code",
   "execution_count": 22,
   "id": "65f73297",
   "metadata": {},
   "outputs": [
    {
     "name": "stdout",
     "output_type": "stream",
     "text": [
      "the total disatance from shimoga to udpi 150 KM\n",
      "Total time taken 3.3333333333333335 Hr\n"
     ]
    },
    {
     "data": {
      "text/plain": [
       "3.333"
      ]
     },
     "execution_count": 22,
     "metadata": {},
     "output_type": "execute_result"
    }
   ],
   "source": [
    "shimoga_thirtalli = 60\n",
    "thirtalli_udpi = 90\n",
    "total_dist = shimoga_thirtalli + thirtalli_udpi\n",
    "\n",
    "# for numbers we use , operator\n",
    "print(\"the total disatance from shimoga to udpi\",total_dist,\"KM\")\n",
    "kmph = 45\n",
    "time = total_dist/kmph\n",
    "print(\"Total time taken\",time,\"Hr\")\n",
    "round(time,3)"
   ]
  },
  {
   "cell_type": "markdown",
   "id": "6499e3e2",
   "metadata": {},
   "source": [
    "to round off the decimal values"
   ]
  },
  {
   "cell_type": "code",
   "execution_count": 24,
   "id": "003e5684",
   "metadata": {},
   "outputs": [
    {
     "data": {
      "text/plain": [
       "16"
      ]
     },
     "execution_count": 24,
     "metadata": {},
     "output_type": "execute_result"
    }
   ],
   "source": [
    "10+2*3"
   ]
  },
  {
   "cell_type": "code",
   "execution_count": 25,
   "id": "0f92d2ef",
   "metadata": {},
   "outputs": [
    {
     "data": {
      "text/plain": [
       "72"
      ]
     },
     "execution_count": 25,
     "metadata": {},
     "output_type": "execute_result"
    }
   ],
   "source": [
    "(10+2)*6"
   ]
  },
  {
   "cell_type": "code",
   "execution_count": 29,
   "id": "96430089",
   "metadata": {
    "scrolled": true
   },
   "outputs": [
    {
     "name": "stdout",
     "output_type": "stream",
     "text": [
      "0.2999999999999998\n",
      "0.3\n"
     ]
    }
   ],
   "source": [
    "print(6-5.7)\n",
    "#theres no precise way to store floting number or we use round function\n",
    "print(round(6-5.7,2))"
   ]
  },
  {
   "cell_type": "markdown",
   "id": "6434d2ce",
   "metadata": {},
   "source": [
    "# Strings "
   ]
  },
  {
   "cell_type": "code",
   "execution_count": 31,
   "id": "8b012f1f",
   "metadata": {},
   "outputs": [
    {
     "data": {
      "text/plain": [
       "'I'"
      ]
     },
     "execution_count": 31,
     "metadata": {},
     "output_type": "execute_result"
    }
   ],
   "source": [
    "text = \"Ice cream\"\n",
    "text[1]\n",
    "text[0]"
   ]
  },
  {
   "cell_type": "markdown",
   "id": "db4754ea",
   "metadata": {},
   "source": [
    "Strings are Immutable\n",
    "means you cant change them oce they are constructed\n"
   ]
  },
  {
   "cell_type": "code",
   "execution_count": 33,
   "id": "e6c5ca4e",
   "metadata": {},
   "outputs": [
    {
     "ename": "TypeError",
     "evalue": "'str' object does not support item assignment",
     "output_type": "error",
     "traceback": [
      "\u001b[1;31m---------------------------------------------------------------------------\u001b[0m",
      "\u001b[1;31mTypeError\u001b[0m                                 Traceback (most recent call last)",
      "Cell \u001b[1;32mIn[33], line 1\u001b[0m\n\u001b[1;32m----> 1\u001b[0m \u001b[43mtext\u001b[49m\u001b[43m[\u001b[49m\u001b[38;5;241;43m0\u001b[39;49m\u001b[43m]\u001b[49m \u001b[38;5;241m=\u001b[39m \u001b[38;5;124m'\u001b[39m\u001b[38;5;124mg\u001b[39m\u001b[38;5;124m'\u001b[39m\n",
      "\u001b[1;31mTypeError\u001b[0m: 'str' object does not support item assignment"
     ]
    }
   ],
   "source": [
    "text[0] = 'g'"
   ]
  },
  {
   "cell_type": "markdown",
   "id": "2eba2031",
   "metadata": {},
   "source": [
    "Slicing"
   ]
  },
  {
   "cell_type": "markdown",
   "id": "0bb92804",
   "metadata": {},
   "source": [
    " text = I c e   c r e a m\n",
    "        0 1 2 3 4 5 6 7 8     in the end always add +1 and space always takesup 1 space\n",
    "\n",
    " text =  I  c  e     c  r  e  a  m\n",
    "        -9 -8 -7 -6 -5 -4 -3 -2 -1"
   ]
  },
  {
   "cell_type": "code",
   "execution_count": 63,
   "id": "881e8e96",
   "metadata": {},
   "outputs": [
    {
     "name": "stdout",
     "output_type": "stream",
     "text": [
      "Ice\n",
      "Ice\n",
      "ce cr\n",
      "crea\n"
     ]
    }
   ],
   "source": [
    "print(text[0:3])\n",
    "print(text[:3])\n",
    "\n",
    "# text = I c e   c r e a m\n",
    "#        0 1 2 3 4 5 6 7 8     in the end always add +1 and space always takesup 1 space\n",
    "\n",
    "# text =  I  c  e     c  r  e  a  m\n",
    "#        -9 -8 -7 -6 -5 -4 -3 -2 -1\n",
    "print(text[1:6])\n",
    "print(text[-5:-1])"
   ]
  },
  {
   "cell_type": "code",
   "execution_count": 37,
   "id": "0f1c00ec",
   "metadata": {},
   "outputs": [
    {
     "name": "stdout",
     "output_type": "stream",
     "text": [
      "cream\n",
      "cream\n"
     ]
    }
   ],
   "source": [
    "print(text[4:])\n",
    "print(text[4:9])"
   ]
  },
  {
   "cell_type": "markdown",
   "id": "3b27902f",
   "metadata": {},
   "source": [
    "Concanating two strings"
   ]
  },
  {
   "cell_type": "code",
   "execution_count": 65,
   "id": "44795be2",
   "metadata": {},
   "outputs": [
    {
     "name": "stdout",
     "output_type": "stream",
     "text": [
      "helloworld\n",
      "hello world\n"
     ]
    }
   ],
   "source": [
    "s1 = \"hello\"\n",
    "s2 = \"world\"\n",
    "print(s1+s2)\n",
    "\n",
    "# for stings we use + operator \n",
    "print(s1+\" \"+s2)"
   ]
  },
  {
   "cell_type": "markdown",
   "id": "664cc06c",
   "metadata": {},
   "source": [
    "To concanate a number with a string "
   ]
  },
  {
   "cell_type": "code",
   "execution_count": 66,
   "id": "f19fe7ea",
   "metadata": {},
   "outputs": [
    {
     "ename": "TypeError",
     "evalue": "can only concatenate str (not \"int\") to str",
     "output_type": "error",
     "traceback": [
      "\u001b[1;31m---------------------------------------------------------------------------\u001b[0m",
      "\u001b[1;31mTypeError\u001b[0m                                 Traceback (most recent call last)",
      "Cell \u001b[1;32mIn[66], line 4\u001b[0m\n\u001b[0;32m      1\u001b[0m state \u001b[38;5;241m=\u001b[39m \u001b[38;5;124m\"\u001b[39m\u001b[38;5;124mTotal state in India # \u001b[39m\u001b[38;5;124m\"\u001b[39m\n\u001b[0;32m      2\u001b[0m total \u001b[38;5;241m=\u001b[39m \u001b[38;5;241m28\u001b[39m\n\u001b[1;32m----> 4\u001b[0m \u001b[38;5;28mprint\u001b[39m(\u001b[43mstate\u001b[49m\u001b[38;5;241;43m+\u001b[39;49m\u001b[43mtotal\u001b[49m)\n",
      "\u001b[1;31mTypeError\u001b[0m: can only concatenate str (not \"int\") to str"
     ]
    }
   ],
   "source": [
    "state = \"Total state in India # \"\n",
    "total = 28\n",
    "\n",
    "print(state+total)"
   ]
  },
  {
   "cell_type": "code",
   "execution_count": 68,
   "id": "2c77cfc6",
   "metadata": {},
   "outputs": [
    {
     "data": {
      "text/plain": [
       "'Total state in India # 28'"
      ]
     },
     "execution_count": 68,
     "metadata": {},
     "output_type": "execute_result"
    }
   ],
   "source": [
    "#to resolve this we need to coinvert the numbere to string\n",
    "state + str(total)"
   ]
  },
  {
   "cell_type": "markdown",
   "id": "fd5cdb82",
   "metadata": {},
   "source": [
    "# Lists"
   ]
  },
  {
   "cell_type": "code",
   "execution_count": 69,
   "id": "749939e2",
   "metadata": {},
   "outputs": [
    {
     "data": {
      "text/plain": [
       "['bread', 'fruits', 'pasta', 'milk']"
      ]
     },
     "execution_count": 69,
     "metadata": {},
     "output_type": "execute_result"
    }
   ],
   "source": [
    "# Creating a List\n",
    "items = [\"bread\",\"fruits\",\"pasta\",\"milk\"]\n",
    "items"
   ]
  },
  {
   "cell_type": "code",
   "execution_count": 71,
   "id": "e7f383ad",
   "metadata": {},
   "outputs": [
    {
     "data": {
      "text/plain": [
       "'milk'"
      ]
     },
     "execution_count": 71,
     "metadata": {},
     "output_type": "execute_result"
    }
   ],
   "source": [
    "items[3]"
   ]
  },
  {
   "cell_type": "markdown",
   "id": "1102f8f2",
   "metadata": {},
   "source": [
    "Lists are mutable means they can be modified"
   ]
  },
  {
   "cell_type": "code",
   "execution_count": 73,
   "id": "ae0515d9",
   "metadata": {},
   "outputs": [
    {
     "data": {
      "text/plain": [
       "['chips', 'fruits', 'pasta', 'milk']"
      ]
     },
     "execution_count": 73,
     "metadata": {},
     "output_type": "execute_result"
    }
   ],
   "source": [
    "items[0] = \"chips\"\n",
    "items"
   ]
  },
  {
   "cell_type": "code",
   "execution_count": 76,
   "id": "a231f555",
   "metadata": {},
   "outputs": [
    {
     "data": {
      "text/plain": [
       "['chips', 'fruits', 'pasta']"
      ]
     },
     "execution_count": 76,
     "metadata": {},
     "output_type": "execute_result"
    }
   ],
   "source": [
    "# accesing elemewnts in list\n",
    "\n",
    "items[0:3]"
   ]
  },
  {
   "cell_type": "code",
   "execution_count": 78,
   "id": "823999bf",
   "metadata": {},
   "outputs": [
    {
     "data": {
      "text/plain": [
       "['chips', 'fruits', 'pasta', 'milk', 'butter', 'butter']"
      ]
     },
     "execution_count": 78,
     "metadata": {},
     "output_type": "execute_result"
    }
   ],
   "source": [
    "# Append a list\n",
    "# it will Inseret ther element in the end\n",
    "\n",
    "items.append(\"butter\")\n",
    "items"
   ]
  },
  {
   "cell_type": "code",
   "execution_count": 79,
   "id": "3ae527d7",
   "metadata": {},
   "outputs": [
    {
     "data": {
      "text/plain": [
       "['chips', 'Juice', 'fruits', 'pasta', 'milk', 'butter', 'butter']"
      ]
     },
     "execution_count": 79,
     "metadata": {},
     "output_type": "execute_result"
    }
   ],
   "source": [
    "# to insert the element anywhewre in the list\n",
    "\n",
    "items.insert(1,\"Juice\")\n",
    "items"
   ]
  },
  {
   "cell_type": "code",
   "execution_count": 80,
   "id": "200484c6",
   "metadata": {},
   "outputs": [
    {
     "data": {
      "text/plain": [
       "['rice', 'dal', 'salt', 'brush', 'paste', 'mop']"
      ]
     },
     "execution_count": 80,
     "metadata": {},
     "output_type": "execute_result"
    }
   ],
   "source": [
    "#  Joining two list\n",
    "\n",
    "food = [\"rice\",\"dal\",\"salt\"]\n",
    "bathroom = [\"brush\",\"paste\",'mop']\n",
    "item = food + bathroom\n",
    "item"
   ]
  },
  {
   "cell_type": "markdown",
   "id": "def6d4df",
   "metadata": {},
   "source": [
    "#Concanatenate a list \n",
    "we cannot concanitate a list as we cannot add a integer or number "
   ]
  },
  {
   "cell_type": "code",
   "execution_count": 83,
   "id": "3156d0dc",
   "metadata": {},
   "outputs": [
    {
     "data": {
      "text/plain": [
       "5"
      ]
     },
     "execution_count": 83,
     "metadata": {},
     "output_type": "execute_result"
    }
   ],
   "source": [
    "#  length of a list\n",
    "\n",
    "sub=[\"Math\",\"English\",\"Hindi\",\"Science\",\"GK\"]\n",
    "len(sub)"
   ]
  },
  {
   "cell_type": "code",
   "execution_count": 94,
   "id": "5364127a",
   "metadata": {},
   "outputs": [
    {
     "name": "stdout",
     "output_type": "stream",
     "text": [
      "True\n",
      "False\n"
     ]
    },
    {
     "data": {
      "text/plain": [
       "False"
      ]
     },
     "execution_count": 94,
     "metadata": {},
     "output_type": "execute_result"
    }
   ],
   "source": [
    "#  to check if an item exists in list using in operator\n",
    "\n",
    "print(\"Math\" in sub)\n",
    "print(\"Physics\" in sub)\n",
    "\"gk\" in sub           # it is case Sensitive"
   ]
  },
  {
   "cell_type": "markdown",
   "id": "a46f3eae",
   "metadata": {},
   "source": [
    "# if Statements"
   ]
  },
  {
   "cell_type": "code",
   "execution_count": 93,
   "id": "fa7138cb",
   "metadata": {},
   "outputs": [
    {
     "name": "stdout",
     "output_type": "stream",
     "text": [
      "Enter a Number 56\n",
      "56  is even\n"
     ]
    }
   ],
   "source": [
    "num = int(input(\"Enter a Number \"))\n",
    "\n",
    "if num%2 == 0:\n",
    "    print(num,\" is even\")\n",
    "else:\n",
    "    print(num,\" is odd\")"
   ]
  },
  {
   "cell_type": "code",
   "execution_count": 95,
   "id": "7b16bda7",
   "metadata": {},
   "outputs": [
    {
     "name": "stdout",
     "output_type": "stream",
     "text": [
      "True\n"
     ]
    }
   ],
   "source": [
    "# AND OR operators\n",
    "\n",
    "if 3>2 and 4>2:\n",
    "    print(\"True\")\n",
    "else:\n",
    "    print(\"False\")"
   ]
  },
  {
   "cell_type": "code",
   "execution_count": 97,
   "id": "ad76bad0",
   "metadata": {},
   "outputs": [
    {
     "name": "stdout",
     "output_type": "stream",
     "text": [
      "False\n"
     ]
    }
   ],
   "source": [
    "if 3>2 and 4>6:\n",
    "    print(\"True\")\n",
    "else:\n",
    "    print(\"False\")"
   ]
  },
  {
   "cell_type": "code",
   "execution_count": 98,
   "id": "39fb2664",
   "metadata": {},
   "outputs": [
    {
     "name": "stdout",
     "output_type": "stream",
     "text": [
      "True\n"
     ]
    }
   ],
   "source": [
    "if 3>2 or 4>6:\n",
    "    print(\"True\")\n",
    "else:\n",
    "    print(\"False\")"
   ]
  },
  {
   "cell_type": "markdown",
   "id": "5623739d",
   "metadata": {},
   "source": [
    "Write a program to ask the user to enter a dish and it should print ther cuisine of the dish"
   ]
  },
  {
   "cell_type": "code",
   "execution_count": 106,
   "id": "7ca1d130",
   "metadata": {},
   "outputs": [
    {
     "name": "stdout",
     "output_type": "stream",
     "text": [
      "Enter the dish tofu\n",
      "tofu is a Chinese cuisine\n"
     ]
    }
   ],
   "source": [
    "dish = input(\"Enter the dish \")\n",
    "\n",
    "indian = [\"dosa\",\"idli\",\"butter chicken\",\"rice dal\",\"roti\"]\n",
    "chinese = [\"noodels\",\"chicken fried rice\",\"tofu\"]\n",
    "arab = [\"al faham\",\"biryani\",\"mandi\",\"sharwama\"]\n",
    "\n",
    "if dish in indian:\n",
    "    print(dish+\" is an indian cuisine\")\n",
    "elif dish in chinese:\n",
    "    print(dish+\" is a Chinese cuisine\")\n",
    "elif dish in arab:\n",
    "    print(dish+\" is an Arab cuisine\")\n",
    "else:\n",
    "    print(\"Hmm... it seems to me I don't know the which cuisine is \"+dish)"
   ]
  },
  {
   "cell_type": "markdown",
   "id": "3525f58a",
   "metadata": {},
   "source": [
    "# For Loops"
   ]
  },
  {
   "cell_type": "code",
   "execution_count": 111,
   "id": "57a162cf",
   "metadata": {},
   "outputs": [
    {
     "name": "stdout",
     "output_type": "stream",
     "text": [
      "1665\n"
     ]
    },
    {
     "data": {
      "text/plain": [
       "1665"
      ]
     },
     "execution_count": 111,
     "metadata": {},
     "output_type": "execute_result"
    }
   ],
   "source": [
    "exp = [111,222,333,444,555]\n",
    "total = exp[0] + exp[1] + exp[2] + exp[3] + exp[4]\n",
    "print(total)\n",
    "\n",
    "totals = 0\n",
    "# use for loop \n",
    "for i in exp:\n",
    "    totals = totals + i\n",
    "totals"
   ]
  },
  {
   "cell_type": "code",
   "execution_count": 118,
   "id": "1f14e033",
   "metadata": {},
   "outputs": [
    {
     "name": "stdout",
     "output_type": "stream",
     "text": [
      "1\n",
      "2\n",
      "3\n",
      "4\n",
      "5\n",
      "6\n",
      "7\n",
      "8\n",
      "9\n",
      "10\n",
      "\n",
      "0\n",
      "1\n",
      "2\n",
      "3\n",
      "4\n",
      "5\n",
      "6\n",
      "7\n",
      "8\n",
      "9\n"
     ]
    }
   ],
   "source": [
    "# Using range        always the end should be +1\n",
    "\n",
    "for i in range (1,11):\n",
    "    print(i)\n",
    "\n",
    "print()\n",
    "\n",
    "for i in range (10):\n",
    "    print(i)"
   ]
  },
  {
   "cell_type": "code",
   "execution_count": 116,
   "id": "93b89694",
   "metadata": {},
   "outputs": [
    {
     "name": "stdout",
     "output_type": "stream",
     "text": [
      "Month  1 Expense  2132\n",
      "Month  2 Expense  3241\n",
      "Month  3 Expense  2421\n",
      "Month  4 Expense  4121\n",
      "Month  5 Expense  3732\n"
     ]
    },
    {
     "data": {
      "text/plain": [
       "15647"
      ]
     },
     "execution_count": 116,
     "metadata": {},
     "output_type": "execute_result"
    }
   ],
   "source": [
    "exp = [2132,3241,2421,4121,3732]\n",
    "total = 0\n",
    "for i in range(len(exp)):\n",
    "    print(\"Month \",(i+1),\"Expense \",exp[i])\n",
    "    total = total + exp[i]\n",
    "total"
   ]
  },
  {
   "cell_type": "code",
   "execution_count": 137,
   "id": "aec16c03",
   "metadata": {},
   "outputs": [
    {
     "name": "stdout",
     "output_type": "stream",
     "text": [
      "Enter the number 55\n",
      "Length of list is  12\n",
      "55  Element not found at index  0\n",
      "55  Element not found at index  1\n",
      "55  Element found at index 2\n",
      "55  Element not found at index  3\n",
      "55  Element not found at index  4\n",
      "55  Element not found at index  5\n",
      "55  Element not found at index  6\n",
      "55  Element not found at index  7\n",
      "55  Element not found at index  8\n",
      "55  Element not found at index  9\n",
      "55  Element not found at index  10\n",
      "55  Element not found at index  11\n"
     ]
    }
   ],
   "source": [
    "#  using break\n",
    "\n",
    "key = 55\n",
    "num = [43,23,55,34,87,25,76,48,25,18,17,69]\n",
    "\n",
    "for i in range(len(num)):\n",
    "    if key == num[i]:\n",
    "        print(key,\" Element found at index\",i)\n",
    "         break                                  # herew it will break out of the for loop\n",
    "    else:\n",
    "        print(key,\" Element not found at index \",i)"
   ]
  },
  {
   "cell_type": "markdown",
   "id": "3723d25c",
   "metadata": {},
   "source": [
    "Q. Print the square of even numbers from 1 to 10"
   ]
  },
  {
   "cell_type": "code",
   "execution_count": 142,
   "id": "7c5eaf71",
   "metadata": {},
   "outputs": [
    {
     "name": "stdout",
     "output_type": "stream",
     "text": [
      "4\n",
      "16\n",
      "36\n",
      "64\n"
     ]
    }
   ],
   "source": [
    "# Using continue statement\n",
    "\n",
    "for i in range (1,10):\n",
    "    if i%2 == 1:\n",
    "        continue   # here it will skip ther nbext line and again go back to the for loop\n",
    "    print(i*i)"
   ]
  },
  {
   "cell_type": "markdown",
   "id": "20346cb5",
   "metadata": {},
   "source": [
    "While statements"
   ]
  },
  {
   "cell_type": "code",
   "execution_count": 143,
   "id": "0c1116a2",
   "metadata": {},
   "outputs": [
    {
     "name": "stdout",
     "output_type": "stream",
     "text": [
      "0\n",
      "1\n",
      "2\n",
      "3\n",
      "4\n",
      "5\n"
     ]
    }
   ],
   "source": [
    "i = 0\n",
    "while i <= 5:\n",
    "    print(i)\n",
    "    i+=1   # for whilke loop we have to iterate it everytiume"
   ]
  },
  {
   "cell_type": "markdown",
   "id": "48121d4a",
   "metadata": {},
   "source": [
    "# Functions"
   ]
  },
  {
   "cell_type": "markdown",
   "id": "6407d3e5",
   "metadata": {},
   "source": [
    "It makes our code more modular and more readable"
   ]
  },
  {
   "cell_type": "code",
   "execution_count": 153,
   "id": "41ecd22d",
   "metadata": {},
   "outputs": [
    {
     "name": "stdout",
     "output_type": "stream",
     "text": [
      "Total expence of ahad is  14198\n",
      "Total expence of Fahad is  13407\n"
     ]
    }
   ],
   "source": [
    "ahad_exp = [2211,4331,3232,1212,3212]\n",
    "fahad_exp = [2321,2211,2233,3421,3221]\n",
    "\n",
    "#  to calculate the total expence of both brothers\n",
    "\n",
    "def total_exp (exp):\n",
    "    \"\"\" this is documentation strings\"\"\"\n",
    "    total = 0\n",
    "    for i in exp:\n",
    "        total = total + i\n",
    "    return total\n",
    "    \n",
    "ahad_total = total_exp(ahad_exp)\n",
    "fahad_total = total_exp(fahad_exp)\n",
    "\n",
    "print(\"Total expence of ahad is \",ahad_total)\n",
    "print(\"Total expence of Fahad is \",fahad_total)"
   ]
  },
  {
   "cell_type": "markdown",
   "id": "65c410df",
   "metadata": {},
   "source": [
    "# Dictionaries and Tuples"
   ]
  },
  {
   "cell_type": "markdown",
   "id": "88f9d474",
   "metadata": {},
   "source": [
    "A dictonary is datatype similar to array and has keys and values insted of index in array"
   ]
  },
  {
   "cell_type": "code",
   "execution_count": 171,
   "id": "ddac5ffc",
   "metadata": {},
   "outputs": [
    {
     "data": {
      "text/plain": [
       "7019721464"
      ]
     },
     "execution_count": 171,
     "metadata": {},
     "output_type": "execute_result"
    }
   ],
   "source": [
    "# dictonary is similar to telephone directory\n",
    "\n",
    "contact = {\n",
    "#   keys  : values\n",
    "    \"Ahad\":9632655288,\n",
    "    \"dad\":8217617426,\n",
    "    \"mom\":7019721464,\n",
    "    \"Fahad\":9902344892\n",
    "}\n",
    "\n",
    "contact[\"mom\"]\n",
    "# we can access any element form dictonary just like array, in ARRAY we use index and in dictonary we \n",
    "# use keys to access the elements"
   ]
  },
  {
   "cell_type": "markdown",
   "id": "0427546d",
   "metadata": {},
   "source": [
    " we can access any element form dictonary just like array, in ARRAY we use index and in dictonary we use keys to access the elements.\n",
    " \n",
    "In dictonary the the ordser has no importance unlike array because we access the elements using the keys "
   ]
  },
  {
   "cell_type": "code",
   "execution_count": 172,
   "id": "76d6a9d6",
   "metadata": {},
   "outputs": [
    {
     "data": {
      "text/plain": [
       "{'Ahad': 9632655288,\n",
       " 'dad': 8217617426,\n",
       " 'mom': 7019721464,\n",
       " 'Fahad': 9902344892,\n",
       " 'Zaki': 7892541848}"
      ]
     },
     "execution_count": 172,
     "metadata": {},
     "output_type": "execute_result"
    }
   ],
   "source": [
    "# Adding a new contact in dictonary\n",
    "\n",
    "contact[\"Zaki\"]=7892541848\n",
    "contact"
   ]
  },
  {
   "cell_type": "code",
   "execution_count": 173,
   "id": "09909f0d",
   "metadata": {},
   "outputs": [
    {
     "data": {
      "text/plain": [
       "{'Ahad': 9632655288, 'dad': 8217617426, 'mom': 7019721464, 'Fahad': 9902344892}"
      ]
     },
     "execution_count": 173,
     "metadata": {},
     "output_type": "execute_result"
    }
   ],
   "source": [
    "# deleting an item from ther dictonary\n",
    "\n",
    "del contact[\"Zaki\"]\n",
    "contact\n",
    "\n"
   ]
  },
  {
   "cell_type": "code",
   "execution_count": 174,
   "id": "145523fe",
   "metadata": {},
   "outputs": [
    {
     "data": {
      "text/plain": [
       "{'Ahad': 9632655288, 'mom': 7019721464, 'Fahad': 9902344892}"
      ]
     },
     "execution_count": 174,
     "metadata": {},
     "output_type": "execute_result"
    }
   ],
   "source": [
    "# deleting an item from ther dictonary\n",
    "\n",
    "contact.pop(\"dad\")\n",
    "contact"
   ]
  },
  {
   "cell_type": "code",
   "execution_count": 175,
   "id": "a053614e",
   "metadata": {},
   "outputs": [
    {
     "name": "stdout",
     "output_type": "stream",
     "text": [
      "key: Ahad Values: 9632655288\n",
      "key: mom Values: 7019721464\n",
      "key: Fahad Values: 9902344892\n",
      "KEY: Ahad VALUES: 9632655288\n",
      "KEY: mom VALUES: 7019721464\n",
      "KEY: Fahad VALUES: 9902344892\n"
     ]
    }
   ],
   "source": [
    "# Accesing the items in dictonary using for loop \n",
    "\n",
    "for i in contact:\n",
    "    print(\"key:\",i,\"Values:\",contact[i])\n",
    "    \n",
    "for k,v in contact.items():\n",
    "    print(\"KEY:\",k,\"VALUES:\",v)"
   ]
  },
  {
   "cell_type": "code",
   "execution_count": 176,
   "id": "9026c368",
   "metadata": {},
   "outputs": [
    {
     "data": {
      "text/plain": [
       "False"
      ]
     },
     "execution_count": 176,
     "metadata": {},
     "output_type": "execute_result"
    }
   ],
   "source": [
    "\"Zaki\" in contact"
   ]
  },
  {
   "cell_type": "code",
   "execution_count": 177,
   "id": "595a96dc",
   "metadata": {},
   "outputs": [
    {
     "data": {
      "text/plain": [
       "True"
      ]
     },
     "execution_count": 177,
     "metadata": {},
     "output_type": "execute_result"
    }
   ],
   "source": [
    "\"mom\" in contact"
   ]
  },
  {
   "cell_type": "code",
   "execution_count": 178,
   "id": "2358952f",
   "metadata": {},
   "outputs": [
    {
     "data": {
      "text/plain": [
       "{}"
      ]
     },
     "execution_count": 178,
     "metadata": {},
     "output_type": "execute_result"
    }
   ],
   "source": [
    "# clearing or wiping out the entile dictonary\n",
    "\n",
    "contact.clear()\n",
    "contact"
   ]
  },
  {
   "cell_type": "markdown",
   "id": "657265ff",
   "metadata": {},
   "source": [
    "# Tuples"
   ]
  },
  {
   "cell_type": "markdown",
   "id": "5a120b42",
   "metadata": {},
   "source": [
    "Here all values have different meanings (Hetreogenious)\n",
    "ex point = (5,9)  \n",
    "and they are immutable so we cannot change them"
   ]
  },
  {
   "cell_type": "code",
   "execution_count": 179,
   "id": "4bdc539d",
   "metadata": {},
   "outputs": [
    {
     "data": {
      "text/plain": [
       "('4th corss', '9th cross', 8800)"
      ]
     },
     "execution_count": 179,
     "metadata": {},
     "output_type": "execute_result"
    }
   ],
   "source": [
    "tup = (\"4th corss\",\"9th cross\",8800)\n",
    "tup"
   ]
  },
  {
   "cell_type": "code",
   "execution_count": 183,
   "id": "4b8a42d6",
   "metadata": {},
   "outputs": [
    {
     "ename": "TypeError",
     "evalue": "'tuple' object does not support item assignment",
     "output_type": "error",
     "traceback": [
      "\u001b[1;31m---------------------------------------------------------------------------\u001b[0m",
      "\u001b[1;31mTypeError\u001b[0m                                 Traceback (most recent call last)",
      "Cell \u001b[1;32mIn[183], line 1\u001b[0m\n\u001b[1;32m----> 1\u001b[0m \u001b[43mtup\u001b[49m\u001b[43m[\u001b[49m\u001b[38;5;241;43m0\u001b[39;49m\u001b[43m]\u001b[49m \u001b[38;5;241m=\u001b[39m \u001b[38;5;124m\"\u001b[39m\u001b[38;5;124m9th cross\u001b[39m\u001b[38;5;124m\"\u001b[39m\n",
      "\u001b[1;31mTypeError\u001b[0m: 'tuple' object does not support item assignment"
     ]
    }
   ],
   "source": [
    "# the values cannot ber changed (immutable) \n",
    "tup[0] = \"9th cross\""
   ]
  },
  {
   "cell_type": "markdown",
   "id": "65820c62",
   "metadata": {},
   "source": [
    "# Modules"
   ]
  },
  {
   "cell_type": "markdown",
   "id": "1acfd618",
   "metadata": {},
   "source": [
    "Modules i was way to re-use the pre written code"
   ]
  },
  {
   "cell_type": "code",
   "execution_count": 186,
   "id": "ef76cb1c",
   "metadata": {},
   "outputs": [
    {
     "data": {
      "text/plain": [
       "4.0"
      ]
     },
     "execution_count": 186,
     "metadata": {},
     "output_type": "execute_result"
    }
   ],
   "source": [
    "import math\n",
    "math.sqrt(16)"
   ]
  },
  {
   "cell_type": "code",
   "execution_count": 189,
   "id": "1e00a689",
   "metadata": {},
   "outputs": [
    {
     "data": {
      "text/plain": [
       "16.0"
      ]
     },
     "execution_count": 189,
     "metadata": {},
     "output_type": "execute_result"
    }
   ],
   "source": [
    "math.pow(2,4)"
   ]
  },
  {
   "cell_type": "code",
   "execution_count": 190,
   "id": "1e8ea3b1",
   "metadata": {},
   "outputs": [
    {
     "data": {
      "text/plain": [
       "['__doc__',\n",
       " '__loader__',\n",
       " '__name__',\n",
       " '__package__',\n",
       " '__spec__',\n",
       " 'acos',\n",
       " 'acosh',\n",
       " 'asin',\n",
       " 'asinh',\n",
       " 'atan',\n",
       " 'atan2',\n",
       " 'atanh',\n",
       " 'cbrt',\n",
       " 'ceil',\n",
       " 'comb',\n",
       " 'copysign',\n",
       " 'cos',\n",
       " 'cosh',\n",
       " 'degrees',\n",
       " 'dist',\n",
       " 'e',\n",
       " 'erf',\n",
       " 'erfc',\n",
       " 'exp',\n",
       " 'exp2',\n",
       " 'expm1',\n",
       " 'fabs',\n",
       " 'factorial',\n",
       " 'floor',\n",
       " 'fmod',\n",
       " 'frexp',\n",
       " 'fsum',\n",
       " 'gamma',\n",
       " 'gcd',\n",
       " 'hypot',\n",
       " 'inf',\n",
       " 'isclose',\n",
       " 'isfinite',\n",
       " 'isinf',\n",
       " 'isnan',\n",
       " 'isqrt',\n",
       " 'lcm',\n",
       " 'ldexp',\n",
       " 'lgamma',\n",
       " 'log',\n",
       " 'log10',\n",
       " 'log1p',\n",
       " 'log2',\n",
       " 'modf',\n",
       " 'nan',\n",
       " 'nextafter',\n",
       " 'perm',\n",
       " 'pi',\n",
       " 'pow',\n",
       " 'prod',\n",
       " 'radians',\n",
       " 'remainder',\n",
       " 'sin',\n",
       " 'sinh',\n",
       " 'sqrt',\n",
       " 'tan',\n",
       " 'tanh',\n",
       " 'tau',\n",
       " 'trunc',\n",
       " 'ulp']"
      ]
     },
     "execution_count": 190,
     "metadata": {},
     "output_type": "execute_result"
    }
   ],
   "source": [
    "# to know all the math modules\n",
    "dir(math)"
   ]
  },
  {
   "cell_type": "code",
   "execution_count": 192,
   "id": "c725d356",
   "metadata": {},
   "outputs": [
    {
     "data": {
      "text/plain": [
       "0.6931471805599453"
      ]
     },
     "execution_count": 192,
     "metadata": {},
     "output_type": "execute_result"
    }
   ],
   "source": [
    "math.log(2)"
   ]
  },
  {
   "cell_type": "code",
   "execution_count": 193,
   "id": "28d16626",
   "metadata": {},
   "outputs": [
    {
     "data": {
      "text/plain": [
       "3.141592653589793"
      ]
     },
     "execution_count": 193,
     "metadata": {},
     "output_type": "execute_result"
    }
   ],
   "source": [
    "math.pi"
   ]
  },
  {
   "cell_type": "code",
   "execution_count": 194,
   "id": "9c5123d9",
   "metadata": {},
   "outputs": [
    {
     "data": {
      "text/plain": [
       "0.47712125471966244"
      ]
     },
     "execution_count": 194,
     "metadata": {},
     "output_type": "execute_result"
    }
   ],
   "source": [
    "math.log10(3)"
   ]
  },
  {
   "cell_type": "markdown",
   "id": "b0e362c7",
   "metadata": {},
   "source": [
    "Calendar module"
   ]
  },
  {
   "cell_type": "code",
   "execution_count": 197,
   "id": "053c0e11",
   "metadata": {},
   "outputs": [
    {
     "name": "stdout",
     "output_type": "stream",
     "text": [
      "     June 2003\n",
      "Mo Tu We Th Fr Sa Su\n",
      "                   1\n",
      " 2  3  4  5  6  7  8\n",
      " 9 10 11 12 13 14 15\n",
      "16 17 18 19 20 21 22\n",
      "23 24 25 26 27 28 29\n",
      "30\n",
      "\n"
     ]
    }
   ],
   "source": [
    "import calendar\n",
    "cal = calendar.month(2003,6)\n",
    "print(cal)"
   ]
  },
  {
   "cell_type": "code",
   "execution_count": 198,
   "id": "5133de10",
   "metadata": {},
   "outputs": [
    {
     "data": {
      "text/plain": [
       "False"
      ]
     },
     "execution_count": 198,
     "metadata": {},
     "output_type": "execute_result"
    }
   ],
   "source": [
    "calendar.isleap(2003)"
   ]
  },
  {
   "cell_type": "code",
   "execution_count": 199,
   "id": "93d7c1fb",
   "metadata": {},
   "outputs": [
    {
     "data": {
      "text/plain": [
       "['Calendar',\n",
       " 'EPOCH',\n",
       " 'FRIDAY',\n",
       " 'February',\n",
       " 'HTMLCalendar',\n",
       " 'IllegalMonthError',\n",
       " 'IllegalWeekdayError',\n",
       " 'January',\n",
       " 'LocaleHTMLCalendar',\n",
       " 'LocaleTextCalendar',\n",
       " 'MONDAY',\n",
       " 'SATURDAY',\n",
       " 'SUNDAY',\n",
       " 'THURSDAY',\n",
       " 'TUESDAY',\n",
       " 'TextCalendar',\n",
       " 'WEDNESDAY',\n",
       " '_EPOCH_ORD',\n",
       " '__all__',\n",
       " '__builtins__',\n",
       " '__cached__',\n",
       " '__doc__',\n",
       " '__file__',\n",
       " '__loader__',\n",
       " '__name__',\n",
       " '__package__',\n",
       " '__spec__',\n",
       " '_colwidth',\n",
       " '_get_default_locale',\n",
       " '_locale',\n",
       " '_localized_day',\n",
       " '_localized_month',\n",
       " '_monthlen',\n",
       " '_nextmonth',\n",
       " '_prevmonth',\n",
       " '_spacing',\n",
       " 'c',\n",
       " 'calendar',\n",
       " 'datetime',\n",
       " 'day_abbr',\n",
       " 'day_name',\n",
       " 'different_locale',\n",
       " 'error',\n",
       " 'firstweekday',\n",
       " 'format',\n",
       " 'formatstring',\n",
       " 'isleap',\n",
       " 'leapdays',\n",
       " 'main',\n",
       " 'mdays',\n",
       " 'month',\n",
       " 'month_abbr',\n",
       " 'month_name',\n",
       " 'monthcalendar',\n",
       " 'monthrange',\n",
       " 'prcal',\n",
       " 'prmonth',\n",
       " 'prweek',\n",
       " 'repeat',\n",
       " 'setfirstweekday',\n",
       " 'sys',\n",
       " 'timegm',\n",
       " 'week',\n",
       " 'weekday',\n",
       " 'weekheader']"
      ]
     },
     "execution_count": 199,
     "metadata": {},
     "output_type": "execute_result"
    }
   ],
   "source": [
    "dir(calendar)"
   ]
  },
  {
   "cell_type": "code",
   "execution_count": 200,
   "id": "0d6dfae9",
   "metadata": {},
   "outputs": [
    {
     "name": "stdout",
     "output_type": "stream",
     "text": [
      "                                  2003\n",
      "\n",
      "      January                   February                   March\n",
      "Mo Tu We Th Fr Sa Su      Mo Tu We Th Fr Sa Su      Mo Tu We Th Fr Sa Su\n",
      "       1  2  3  4  5                      1  2                      1  2\n",
      " 6  7  8  9 10 11 12       3  4  5  6  7  8  9       3  4  5  6  7  8  9\n",
      "13 14 15 16 17 18 19      10 11 12 13 14 15 16      10 11 12 13 14 15 16\n",
      "20 21 22 23 24 25 26      17 18 19 20 21 22 23      17 18 19 20 21 22 23\n",
      "27 28 29 30 31            24 25 26 27 28            24 25 26 27 28 29 30\n",
      "                                                    31\n",
      "\n",
      "       April                      May                       June\n",
      "Mo Tu We Th Fr Sa Su      Mo Tu We Th Fr Sa Su      Mo Tu We Th Fr Sa Su\n",
      "    1  2  3  4  5  6                1  2  3  4                         1\n",
      " 7  8  9 10 11 12 13       5  6  7  8  9 10 11       2  3  4  5  6  7  8\n",
      "14 15 16 17 18 19 20      12 13 14 15 16 17 18       9 10 11 12 13 14 15\n",
      "21 22 23 24 25 26 27      19 20 21 22 23 24 25      16 17 18 19 20 21 22\n",
      "28 29 30                  26 27 28 29 30 31         23 24 25 26 27 28 29\n",
      "                                                    30\n",
      "\n",
      "        July                     August                  September\n",
      "Mo Tu We Th Fr Sa Su      Mo Tu We Th Fr Sa Su      Mo Tu We Th Fr Sa Su\n",
      "    1  2  3  4  5  6                   1  2  3       1  2  3  4  5  6  7\n",
      " 7  8  9 10 11 12 13       4  5  6  7  8  9 10       8  9 10 11 12 13 14\n",
      "14 15 16 17 18 19 20      11 12 13 14 15 16 17      15 16 17 18 19 20 21\n",
      "21 22 23 24 25 26 27      18 19 20 21 22 23 24      22 23 24 25 26 27 28\n",
      "28 29 30 31               25 26 27 28 29 30 31      29 30\n",
      "\n",
      "      October                   November                  December\n",
      "Mo Tu We Th Fr Sa Su      Mo Tu We Th Fr Sa Su      Mo Tu We Th Fr Sa Su\n",
      "       1  2  3  4  5                      1  2       1  2  3  4  5  6  7\n",
      " 6  7  8  9 10 11 12       3  4  5  6  7  8  9       8  9 10 11 12 13 14\n",
      "13 14 15 16 17 18 19      10 11 12 13 14 15 16      15 16 17 18 19 20 21\n",
      "20 21 22 23 24 25 26      17 18 19 20 21 22 23      22 23 24 25 26 27 28\n",
      "27 28 29 30 31            24 25 26 27 28 29 30      29 30 31\n",
      "\n"
     ]
    }
   ],
   "source": [
    "yr = calendar.calendar(2003)\n",
    "print(yr)"
   ]
  },
  {
   "cell_type": "markdown",
   "id": "46cd78ba",
   "metadata": {},
   "source": [
    "# File Manuplation"
   ]
  },
  {
   "cell_type": "code",
   "execution_count": 203,
   "id": "552820ee",
   "metadata": {},
   "outputs": [],
   "source": [
    "# writing into a file\n",
    "fl = open(\"file1.txt\",\"w\")\n",
    "fl.write(\"Cheese on a NIGGA!\")\n",
    "fl.close()"
   ]
  },
  {
   "cell_type": "code",
   "execution_count": 204,
   "id": "20f0dedf",
   "metadata": {},
   "outputs": [],
   "source": [
    "# APPENDING THE FILE without over riding it previous oner\n",
    "fl = open(\"file1.txt\",\"a\")\n",
    "fl.write(\"Suck a nigga dick or something\")\n",
    "fl.close()"
   ]
  },
  {
   "cell_type": "code",
   "execution_count": 216,
   "id": "324488fc",
   "metadata": {},
   "outputs": [
    {
     "name": "stdout",
     "output_type": "stream",
     "text": [
      "Poverty is a state or condition in which one lacks the financial resources and essentials for a certain standard of living.\n",
      "123\n",
      "Poverty is a state or condition in which one lacks the financial resources and essentials for a certain standard of living.\n"
     ]
    }
   ],
   "source": [
    "# Reading a file\n",
    "\n",
    "f2 = open(\"file1.txt\",\"r\")\n",
    "read = f2.read()\n",
    "print(read)\n",
    "\n",
    "k=0\n",
    "for i in read:\n",
    "    k=k+1\n",
    "print(k)\n",
    "f2.close()"
   ]
  },
  {
   "cell_type": "code",
   "execution_count": 223,
   "id": "b0ce1a6b",
   "metadata": {},
   "outputs": [
    {
     "name": "stdout",
     "output_type": "stream",
     "text": [
      "Poverty is a state or condition in which one lacks the financial resources and essentials for a certain standard of living.\n"
     ]
    }
   ],
   "source": [
    "# with statement we dont need to write close function\n",
    "\n",
    "with open(\"file1.txt\",\"r\") as f2_1:\n",
    "    print(f2_1.read())\n"
   ]
  }
 ],
 "metadata": {
  "kernelspec": {
   "display_name": "Python 3 (ipykernel)",
   "language": "python",
   "name": "python3"
  },
  "language_info": {
   "codemirror_mode": {
    "name": "ipython",
    "version": 3
   },
   "file_extension": ".py",
   "mimetype": "text/x-python",
   "name": "python",
   "nbconvert_exporter": "python",
   "pygments_lexer": "ipython3",
   "version": "3.11.4"
  }
 },
 "nbformat": 4,
 "nbformat_minor": 5
}
